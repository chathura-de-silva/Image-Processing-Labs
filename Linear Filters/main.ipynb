{
 "cells": [
  {
   "cell_type": "code",
   "execution_count": 33,
   "metadata": {},
   "outputs": [],
   "source": [
    "import numpy as np;\n",
    "import cv2 as cv;\n",
    "from os import path\n",
    "\n",
    "def normalize_filter(filter_array):\n",
    "    return filter_array/np.sum(np.abs(filter_array))\n"
   ]
  },
  {
   "cell_type": "code",
   "execution_count": 34,
   "metadata": {},
   "outputs": [],
   "source": [
    "# Filter 1 (Filter A) - Laplacian of Gaussian (LoG) Filter\n",
    "filter1 = normalize_filter(np.array([\n",
    "    [0, -1, -1, -1, 0],\n",
    "    [-1, 2, 2, 2, -1],\n",
    "    [-1, 2, 8, 2, -1],\n",
    "    [-1, 2, 2, 2, -1],\n",
    "    [0, -1, -1, -1, 0]\n",
    "]))\n",
    "\n",
    "# Filter 2 (Filter B) - Gaussian Blur Filter\n",
    "filter2 = normalize_filter(np.array([\n",
    "    [1, 4, 6, 4, 1],\n",
    "    [4, 16, 24, 16, 4],\n",
    "    [6, 24, 36, 24, 6],\n",
    "    [4, 16, 24, 16, 4],\n",
    "    [1, 4, 6, 4, 1]\n",
    "]))\n",
    "\n",
    "# Filter 3 (Filter C) - Uniform Box Filter\n",
    "filter3 = normalize_filter(np.array([\n",
    "    [5, 5, 5, 5, 5],\n",
    "    [5, 5, 5, 5, 5],\n",
    "    [5, 5, 5, 5, 5],\n",
    "    [5, 5, 5, 5, 5],\n",
    "    [5, 5, 5, 5, 5]\n",
    "]))\n",
    "\n",
    "# Filter 4 (Filter D) - Sharpening Filter (High-Boost Filter)\n",
    "filter4 = normalize_filter(np.array([\n",
    "    [0, -1, -1, -1, 0],\n",
    "    [-1, 2, 2, 2, -1],\n",
    "    [-1, 2, 16, 2, -1],\n",
    "    [-1, 2, 2, 2, -1],\n",
    "    [0, -1, -1, -1, 0]\n",
    "]))\n"
   ]
  },
  {
   "cell_type": "code",
   "execution_count": 35,
   "metadata": {},
   "outputs": [
    {
     "name": "stdout",
     "output_type": "stream",
     "text": [
      "Image converted to type : <class 'numpy.ndarray'>\n"
     ]
    }
   ],
   "source": [
    "\n",
    "#  Reading the image using OpenCV. Handled file not found situation.\n",
    "\n",
    "img = cv.imread('./road98.png')\n",
    "if img is None:\n",
    "    print(\"Error: Image not found.\")\n",
    "    exit()\n",
    "print(f\"Image converted to type : {type(img)}\" )\n"
   ]
  },
  {
   "cell_type": "code",
   "execution_count": 36,
   "metadata": {},
   "outputs": [],
   "source": [
    "#  Converting the 3D Numpy Array containing BGR Image to a 2D array containing the Grayscale Image.\n",
    "\n",
    "gray_img = np.round(0.114 * img[:, :, 0] + 0.587 * img[:, :, 1] + 0.299 * img[:, :, 2]).astype(np.uint8)"
   ]
  },
  {
   "cell_type": "code",
   "execution_count": 37,
   "metadata": {},
   "outputs": [
    {
     "data": {
      "text/plain": [
       "True"
      ]
     },
     "execution_count": 37,
     "metadata": {},
     "output_type": "execute_result"
    }
   ],
   "source": [
    "max_val= np.max(gray_img)\n",
    "min_val = np.min(gray_img)\n",
    "\n",
    "original_img = np.round(255*((gray_img-min_val)/(max_val-min_val))).astype(np.uint8);\n",
    "cv.imwrite('./original.jpg',original_img ) # Saving as an image."
   ]
  },
  {
   "cell_type": "code",
   "execution_count": 38,
   "metadata": {},
   "outputs": [
    {
     "name": "stdout",
     "output_type": "stream",
     "text": [
      "2\n",
      "[[  0   0   0 ...   0   0   0]\n",
      " [  0   0   0 ...   0   0   0]\n",
      " [  0   0 221 ... 228   0   0]\n",
      " ...\n",
      " [  0   0 221 ... 180   0   0]\n",
      " [  0   0   0 ...   0   0   0]\n",
      " [  0   0   0 ...   0   0   0]]\n",
      "(267, 400)\n",
      "(271, 404)\n"
     ]
    }
   ],
   "source": [
    "# Adding padding.\n",
    "filter_offset = filter1.shape[0]//2  # Offset for the filter.\n",
    "print(filter_offset)\n",
    "for i in range(filter_offset) :\n",
    "    if i==0:\n",
    "        padded_img = np.insert(original_img, 0, 0, axis=0)\n",
    "    else: \n",
    "         padded_img = np.insert(padded_img, 0, 0, axis=0)\n",
    "    padded_img = np.insert(padded_img[::-1],0 , 0, axis=0)\n",
    "    padded_img = np.insert(padded_img, 0, 0, axis=1)\n",
    "    padded_img = np.insert(padded_img, padded_img.shape[1], 0, axis=1)\n",
    "print(padded_img)\n",
    "# print()\n",
    "print(original_img.shape)\n",
    "print(padded_img.shape)"
   ]
  },
  {
   "cell_type": "code",
   "execution_count": 39,
   "metadata": {},
   "outputs": [],
   "source": [
    "def apply_filter_and_save_image(img_filter, img_name):\n",
    "    new_img = np.zeros_like(original_img)\n",
    "    for i in range(original_img.shape[0]):\n",
    "        for j in range(original_img.shape[1]):\n",
    "            new_img[i][j] = np.sum(padded_img[i:i+img_filter.shape[0], j:j+img_filter.shape[1]] * img_filter)\n",
    "    print(new_img)\n",
    "    cv.imwrite('./'+img_name,new_img ) # Saving as an image."
   ]
  },
  {
   "cell_type": "code",
   "execution_count": 40,
   "metadata": {},
   "outputs": [
    {
     "name": "stdout",
     "output_type": "stream",
     "text": [
      "[[ 61  80  69 ...  71  82  63]\n",
      " [ 79 110  93 ...  97 115  83]\n",
      " [ 66  91  73 ...  79  97  71]\n",
      " ...\n",
      " [ 66  90  71 ...  56  70  51]\n",
      " [ 78 108  89 ...  73  88  63]\n",
      " [ 61  79  66 ...  55  65  50]]\n",
      "[[104 143 155 ... 160 149 108]\n",
      " [142 195 210 ... 219 204 149]\n",
      " [150 206 222 ... 236 220 160]\n",
      " ...\n",
      " [149 202 214 ... 171 160 117]\n",
      " [140 190 201 ... 163 153 112]\n",
      " [103 140 148 ... 121 114  83]]\n",
      "[[ 79 107 134 ... 140 112  83]\n",
      " [106 142 178 ... 187 150 112]\n",
      " [132 177 222 ... 235 188 140]\n",
      " ...\n",
      " [130 172 214 ... 172 137 103]\n",
      " [104 138 171 ... 138 110  83]\n",
      " [ 78 103 128 ... 105  84  63]]\n",
      "[[ 90 106  98 ... 100 109  93]\n",
      " [105 131 117 ... 122 136 109]\n",
      " [ 94 114 100 ... 107 122 101]\n",
      " ...\n",
      " [ 93 113  96 ...  76  88  73]\n",
      " [103 128 112 ...  91 104  84]\n",
      " [ 90 105  94 ...  77  86  73]]\n"
     ]
    }
   ],
   "source": [
    "apply_filter_and_save_image(filter1, 'filter1.jpg')\n",
    "apply_filter_and_save_image(filter2, 'filter2.jpg')\n",
    "apply_filter_and_save_image(filter3, 'filter3.jpg')\n",
    "apply_filter_and_save_image(filter4, 'filter4.jpg')"
   ]
  },
  {
   "cell_type": "code",
   "execution_count": null,
   "metadata": {},
   "outputs": [],
   "source": []
  }
 ],
 "metadata": {
  "kernelspec": {
   "display_name": "Python 3",
   "language": "python",
   "name": "python3"
  },
  "language_info": {
   "codemirror_mode": {
    "name": "ipython",
    "version": 3
   },
   "file_extension": ".py",
   "mimetype": "text/x-python",
   "name": "python",
   "nbconvert_exporter": "python",
   "pygments_lexer": "ipython3",
   "version": "3.12.4"
  }
 },
 "nbformat": 4,
 "nbformat_minor": 2
}
